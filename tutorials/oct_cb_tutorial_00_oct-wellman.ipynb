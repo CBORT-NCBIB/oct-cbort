{
 "cells": [
  {
   "cell_type": "markdown",
   "metadata": {},
   "source": [
    "# Tutorial 0: oct-cbort"
   ]
  },
  {
   "cell_type": "markdown",
   "metadata": {},
   "source": [
    "## How to process a dataset after acquisition in the command prompt/terminal:"
   ]
  },
  {
   "cell_type": "markdown",
   "metadata": {},
   "source": [
    "### 1.  Go to the oct-cbort code directory:\n",
    "\n",
    "    `cd Documents/Github/oct-cbort/`\n",
    "\n",
    "### 2. Run an example reconstruction:\n",
    "\n",
    "    `python examples/1.py`\n",
    "\n",
    "### 3. If this works, process your own directory using the following procedure:\n",
    "\n",
    "    `python -m oct '/path/to/data' processState filetype frame_start-frame_end`\n",
    "\n",
    "### 4. Some examples looks like this:\n",
    "\n",
    "    `python -m oct '/Users/damondepaoli/Desktop/[p.GNBP_Phantom][11-21-2020_13-42-20]' struct+angio+ps mgh 1`\n",
    "\n",
    "    `python -m oct '/Users/damondepaoli/Desktop/[p.GNBP_Phantom][11-21-2020_13-42-20]' struct+angio+ps mgh 1-10`\n",
    "\n",
    "    `python -m oct '/Users/damondepaoli/Desktop/[p.GNBP_Phantom][11-21-2020_13-42-20]' tomo mgh 1-300`\n",
    "\n",
    "    `python -m oct '/Users/damondepaoli/Desktop/[p.GNBP_Phantom][11-21-2020_13-42-20]' stokes mgh all`\n",
    "\n",
    "\n",
    "### 5. If you would like to use a simple gui dispatcher:\n",
    "\n",
    "    `python -m oct`\n",
    "\n",
    "### 6. Batch scripting\n",
    "    Lastly, for processing on Windows machines, there are example batch script in the batch_examples folder. These scripts are click-to-run and can be editted by right clicking and choosing edit with ie. Notepad++. Here you can change directories according to the location of your oct-cbort codebase and your data. "
   ]
  }
 ],
 "metadata": {
  "kernelspec": {
   "display_name": "Python 3",
   "language": "python",
   "name": "python3"
  },
  "language_info": {
   "codemirror_mode": {
    "name": "ipython",
    "version": 3
   },
   "file_extension": ".py",
   "mimetype": "text/x-python",
   "name": "python",
   "nbconvert_exporter": "python",
   "pygments_lexer": "ipython3",
   "version": "3.8.6"
  },
  "pycharm": {
   "stem_cell": {
    "cell_type": "raw",
    "metadata": {
     "collapsed": false
    },
    "source": []
   }
  },
  "varInspector": {
   "cols": {
    "lenName": 16,
    "lenType": 16,
    "lenVar": 40
   },
   "kernels_config": {
    "python": {
     "delete_cmd_postfix": "",
     "delete_cmd_prefix": "del ",
     "library": "var_list.py",
     "varRefreshCmd": "print(var_dic_list())"
    },
    "r": {
     "delete_cmd_postfix": ") ",
     "delete_cmd_prefix": "rm(",
     "library": "var_list.r",
     "varRefreshCmd": "cat(var_dic_list()) "
    }
   },
   "types_to_exclude": [
    "module",
    "function",
    "builtin_function_or_method",
    "instance",
    "_Feature"
   ],
   "window_display": false
  }
 },
 "nbformat": 4,
 "nbformat_minor": 1
}
