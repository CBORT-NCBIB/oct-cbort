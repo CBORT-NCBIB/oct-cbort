{
 "cells": [
  {
   "cell_type": "markdown",
   "metadata": {
    "ExecuteTime": {
     "end_time": "2021-01-08T01:03:03.418911Z",
     "start_time": "2021-01-08T01:03:03.284025Z"
    },
    "collapsed": true
   },
   "source": [
    "# Tutorial 10: Editting the editsettings.ini using the .ofd viewer\n"
   ]
  },
  {
   "cell_type": "code",
   "execution_count": 2,
   "metadata": {},
   "outputs": [],
   "source": [
    "#Import required system libraries for file management\n",
    "import sys,importlib,os\n",
    "\n",
    "# Provide path to oct-cbort library\n",
    "module_path=os.path.abspath('C:\\\\Users\\SPARC_PSOCT_MGH\\Documents\\GitHub\\oct-cbort')\n",
    "if module_path not in sys.path:\n",
    "    sys.path.append(module_path)\n",
    "\n",
    "# Import oct-cbort library\n",
    "from oct import *"
   ]
  },
  {
   "cell_type": "markdown",
   "metadata": {},
   "source": [
    "Within the view module lies two types of viewers:\n",
    "1) OFDView - For unprocessed, raw .ofd data, serving the purpose of optimizing the editsettings.ini before running the processing over the entire volume.  \n",
    "2) MGHView - A multi-dimensional slicer that uses binary memory mapping to access any view of the outputted data.  \n",
    "Here we will look at the first, *.ofd viewer."
   ]
  },
  {
   "cell_type": "markdown",
   "metadata": {},
   "source": [
    "### OFDView"
   ]
  },
  {
   "cell_type": "code",
   "execution_count": 9,
   "metadata": {},
   "outputs": [
    {
     "name": "stdout",
     "output_type": "stream",
     "text": [
      "Viewing frame: 6\n",
      "Viewing frame: 430\n"
     ]
    }
   ],
   "source": [
    "# Put any directory here\n",
    "directory = 'G:\\\\Damon\\Damon_Temp_test\\[p.D8_9_4_19][s.baseline][09-04-2019_09-07-30]'\n",
    "\n",
    "# put whatever processing states you want to visualize on the fly\n",
    "state = 'struct+angio+ps+hsv'\n",
    "\n",
    "viewer = OFDView(directory, state)\n",
    "viewer.run()"
   ]
  },
  {
   "cell_type": "markdown",
   "metadata": {},
   "source": [
    "<img src=\"resources/ofdview_snapshot.png\">"
   ]
  },
  {
   "cell_type": "markdown",
   "metadata": {},
   "source": [
    "### Viewing before processing!"
   ]
  },
  {
   "cell_type": "markdown",
   "metadata": {},
   "source": [
    "A fun aspect of using the GPU is that we can process things very fast. This allows us to actually scroll through all the frames processing them nearly on the fly. "
   ]
  },
  {
   "cell_type": "markdown",
   "metadata": {},
   "source": [
    "### Saving a smaller index range in Z"
   ]
  },
  {
   "cell_type": "markdown",
   "metadata": {},
   "source": [
    "Using the low and high inputs on the left input area, below all the processed image types, you can change the crop size of the processed image. The cropping is done early on in the processing, at the tomogram stage, which ultimately allows for faster processing and smaller output file sizes"
   ]
  },
  {
   "cell_type": "markdown",
   "metadata": {},
   "source": [
    "### Quick Projection of the structure dataset"
   ]
  },
  {
   "cell_type": "markdown",
   "metadata": {},
   "source": [
    "By performing serious downsampling in 3D on the fringes, we can generate a quik projection of the structure using the \" Quick Prpjection\" button at the bottom ...  just to make sure we don't miss anything with our processing range!"
   ]
  },
  {
   "cell_type": "markdown",
   "metadata": {},
   "source": [
    "### Outputting new editsettings.ini files"
   ]
  },
  {
   "cell_type": "markdown",
   "metadata": {},
   "source": [
    "Change with the settings, update that in the data object by clikcing update and then generate the new editsettings.ini file by using the button in the top right of the GUI. \n",
    "\n",
    "**Remember, this editsettings.ini file will not be used until it is placed in the settings folder.**"
   ]
  },
  {
   "cell_type": "markdown",
   "metadata": {},
   "source": [
    "## Accessing the viewer from CMD"
   ]
  },
  {
   "cell_type": "markdown",
   "metadata": {},
   "source": [
    "### 1. Using python -m oct , button in middle right hand side"
   ]
  },
  {
   "cell_type": "markdown",
   "metadata": {},
   "source": [
    "<img src=\"resources/cmd_snapshot.png\" width=\"600\"> <img src=\"resources/simplegui_snapshot.png\" width=\"400\">"
   ]
  },
  {
   "cell_type": "markdown",
   "metadata": {},
   "source": [
    "### 2. Using the python -m oct.view ofd"
   ]
  },
  {
   "cell_type": "markdown",
   "metadata": {},
   "source": [
    "ie. > python -m oct.view ofd G:\\Damon\\Damon_Temp_test\\OA_Rotation\\[p.SPARC][s.oa_test_2_180][08-09-2019_09-55-50] struct+angio+ps"
   ]
  },
  {
   "cell_type": "code",
   "execution_count": null,
   "metadata": {},
   "outputs": [],
   "source": []
  }
 ],
 "metadata": {
  "kernelspec": {
   "display_name": "Python 3",
   "language": "python",
   "name": "python3"
  },
  "language_info": {
   "codemirror_mode": {
    "name": "ipython",
    "version": 3
   },
   "file_extension": ".py",
   "mimetype": "text/x-python",
   "name": "python",
   "nbconvert_exporter": "python",
   "pygments_lexer": "ipython3",
   "version": "3.8.6"
  },
  "varInspector": {
   "cols": {
    "lenName": 16,
    "lenType": 16,
    "lenVar": 40
   },
   "kernels_config": {
    "python": {
     "delete_cmd_postfix": "",
     "delete_cmd_prefix": "del ",
     "library": "var_list.py",
     "varRefreshCmd": "print(var_dic_list())"
    },
    "r": {
     "delete_cmd_postfix": ") ",
     "delete_cmd_prefix": "rm(",
     "library": "var_list.r",
     "varRefreshCmd": "cat(var_dic_list()) "
    }
   },
   "types_to_exclude": [
    "module",
    "function",
    "builtin_function_or_method",
    "instance",
    "_Feature"
   ],
   "window_display": false
  }
 },
 "nbformat": 4,
 "nbformat_minor": 1
}
