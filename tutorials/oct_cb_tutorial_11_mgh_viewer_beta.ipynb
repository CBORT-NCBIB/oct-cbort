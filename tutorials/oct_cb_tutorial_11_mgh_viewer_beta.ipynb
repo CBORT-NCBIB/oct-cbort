{
 "cells": [
  {
   "cell_type": "markdown",
   "metadata": {
    "ExecuteTime": {
     "end_time": "2021-01-08T01:03:03.418911Z",
     "start_time": "2021-01-08T01:03:03.284025Z"
    },
    "collapsed": true
   },
   "source": [
    "# Tutorial 11: Viewing and segmenting your data with the .mgh viewer"
   ]
  },
  {
   "cell_type": "code",
   "execution_count": 4,
   "metadata": {},
   "outputs": [],
   "source": [
    "#Import required system libraries for file management\n",
    "import sys,importlib,os\n",
    "\n",
    "# Provide path to oct-cbort library\n",
    "module_path=os.path.abspath('C:\\\\Users\\SPARC_PSOCT_MGH\\Documents\\GitHub\\oct-cbort')\n",
    "if module_path not in sys.path:\n",
    "    sys.path.append(module_path)\n",
    "\n",
    "# Import oct-cbort library\n",
    "from oct.view.mgh import *"
   ]
  },
  {
   "cell_type": "markdown",
   "metadata": {},
   "source": [
    "Within the view module lies two types of viewers:\n",
    "1) OFDView - For unprocessed, raw .ofd data, serving the purpose of optimizing the editsettings.ini before running the processing over the entire volume.  \n",
    "2) MGHView - A multi-dimensional slicer that uses binary memory mapping to access any view of the outputted data.  \n",
    "Here we will look at the first, *.ofd viewer.\n",
    "\n",
    "Both viewers are built on a Napari and MagicGui backbone. https://napari.org/ DOI:10.5281/zenodo.4470554"
   ]
  },
  {
   "cell_type": "markdown",
   "metadata": {},
   "source": [
    "### MGHView"
   ]
  },
  {
   "cell_type": "code",
   "execution_count": 12,
   "metadata": {},
   "outputs": [],
   "source": [
    "# Put any directory here\n",
    "#Important here, we pass the directory that houses the mgh files, ie. the path to the Processed folder!\n",
    "directory = 'G:\\Damon\\Damon_Temp_test\\[p.D8_9_4_19][s.baseline][09-04-2019_09-07-30]\\Processed'\n",
    "\n",
    "# put whatever processing states you want to visualize on the fly. \n",
    "# Important here, hsv cannot be loaded as it is a .tif, not a .mgh file. \n",
    "# However, a color-coded version will be generated on the fly, with the HSV color map.\n",
    "state = 'struct+angio+ps+hsv'\n",
    "\n",
    "viewer = MGHView(directory, state)\n",
    "viewer.run()"
   ]
  },
  {
   "cell_type": "markdown",
   "metadata": {},
   "source": [
    "<img src=\"resources/mghview_bscan_snapshot.png\">"
   ]
  },
  {
   "cell_type": "markdown",
   "metadata": {},
   "source": [
    "### Immediate longitudinal and enface views without loading volume into memory: Memory mapping"
   ]
  },
  {
   "cell_type": "markdown",
   "metadata": {},
   "source": [
    "In the bottom right hand corner we can change the view of all the loaded states and scroll through the volume. Importantly, we can also average a number of frames while scrolling using the avg input."
   ]
  },
  {
   "cell_type": "markdown",
   "metadata": {},
   "source": [
    "<img src=\"resources/mghview_enfaceavgret_snapshot.png\">"
   ]
  },
  {
   "cell_type": "markdown",
   "metadata": {},
   "source": [
    "### Create projections on the fly"
   ]
  },
  {
   "cell_type": "markdown",
   "metadata": {},
   "source": [
    "In the project panel in the middle right section of the gui, we can choose the high (EfPos1) and low (EfPos2) positions we wish to project between as well as the data type we'd like to project!"
   ]
  },
  {
   "cell_type": "markdown",
   "metadata": {},
   "source": [
    "<img src=\"resources/mghview_enfaceproj_snapshot.png\">"
   ]
  },
  {
   "cell_type": "markdown",
   "metadata": {},
   "source": [
    "### Segment any output type with the segmentation gui"
   ]
  },
  {
   "cell_type": "markdown",
   "metadata": {},
   "source": [
    "By clicking \"start segmentation\" we will begin the process of segmenting 10 (Numframes) equally spaced BScans through the volume, averaging 5 (Average) around each position. The DataLayer signifies what output type the \"data\" of the corresponding \"label\" will be. \n",
    "\n",
    "When you click  \"Next Frame\", the new button in the bottom right, it will save both the \"Data\" and the \"Label\" into a newly formed \"Labelling\" folder within the datasets \"Processed\" folder."
   ]
  },
  {
   "cell_type": "markdown",
   "metadata": {},
   "source": [
    "<img src=\"resources/mghview_label_snapshot.png\">"
   ]
  },
  {
   "cell_type": "markdown",
   "metadata": {},
   "source": [
    "### There are known bugs in this viewer. Please submit any you find in the issues channel of the Github"
   ]
  }
 ],
 "metadata": {
  "kernelspec": {
   "display_name": "Python 3",
   "language": "python",
   "name": "python3"
  },
  "language_info": {
   "codemirror_mode": {
    "name": "ipython",
    "version": 3
   },
   "file_extension": ".py",
   "mimetype": "text/x-python",
   "name": "python",
   "nbconvert_exporter": "python",
   "pygments_lexer": "ipython3",
   "version": "3.8.6"
  },
  "varInspector": {
   "cols": {
    "lenName": 16,
    "lenType": 16,
    "lenVar": 40
   },
   "kernels_config": {
    "python": {
     "delete_cmd_postfix": "",
     "delete_cmd_prefix": "del ",
     "library": "var_list.py",
     "varRefreshCmd": "print(var_dic_list())"
    },
    "r": {
     "delete_cmd_postfix": ") ",
     "delete_cmd_prefix": "rm(",
     "library": "var_list.r",
     "varRefreshCmd": "cat(var_dic_list()) "
    }
   },
   "types_to_exclude": [
    "module",
    "function",
    "builtin_function_or_method",
    "instance",
    "_Feature"
   ],
   "window_display": false
  }
 },
 "nbformat": 4,
 "nbformat_minor": 1
}
